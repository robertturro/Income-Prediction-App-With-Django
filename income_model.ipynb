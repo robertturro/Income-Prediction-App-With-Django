{
 "cells": [
  {
   "cell_type": "code",
   "execution_count": 1,
   "metadata": {},
   "outputs": [],
   "source": [
    "import pandas as pd\n",
    "import numpy as np\n",
    "import pickle\n",
    "from sklearn.model_selection import train_test_split"
   ]
  },
  {
   "cell_type": "code",
   "execution_count": 2,
   "metadata": {},
   "outputs": [
    {
     "data": {
      "text/html": [
       "<div>\n",
       "<style scoped>\n",
       "    .dataframe tbody tr th:only-of-type {\n",
       "        vertical-align: middle;\n",
       "    }\n",
       "\n",
       "    .dataframe tbody tr th {\n",
       "        vertical-align: top;\n",
       "    }\n",
       "\n",
       "    .dataframe thead th {\n",
       "        text-align: right;\n",
       "    }\n",
       "</style>\n",
       "<table border=\"1\" class=\"dataframe\">\n",
       "  <thead>\n",
       "    <tr style=\"text-align: right;\">\n",
       "      <th></th>\n",
       "      <th>age</th>\n",
       "      <th>workclass</th>\n",
       "      <th>fnlwgt</th>\n",
       "      <th>education</th>\n",
       "      <th>educational-num</th>\n",
       "      <th>marital-status</th>\n",
       "      <th>occupation</th>\n",
       "      <th>relationship</th>\n",
       "      <th>race</th>\n",
       "      <th>gender</th>\n",
       "      <th>capital-gain</th>\n",
       "      <th>capital-loss</th>\n",
       "      <th>hours-per-week</th>\n",
       "      <th>native-country</th>\n",
       "      <th>income_&gt;50K</th>\n",
       "    </tr>\n",
       "  </thead>\n",
       "  <tbody>\n",
       "    <tr>\n",
       "      <th>0</th>\n",
       "      <td>67</td>\n",
       "      <td>Private</td>\n",
       "      <td>366425</td>\n",
       "      <td>Doctorate</td>\n",
       "      <td>16</td>\n",
       "      <td>Divorced</td>\n",
       "      <td>Exec-managerial</td>\n",
       "      <td>Not-in-family</td>\n",
       "      <td>White</td>\n",
       "      <td>Male</td>\n",
       "      <td>99999</td>\n",
       "      <td>0</td>\n",
       "      <td>60</td>\n",
       "      <td>United-States</td>\n",
       "      <td>1</td>\n",
       "    </tr>\n",
       "    <tr>\n",
       "      <th>1</th>\n",
       "      <td>17</td>\n",
       "      <td>Private</td>\n",
       "      <td>244602</td>\n",
       "      <td>12th</td>\n",
       "      <td>8</td>\n",
       "      <td>Never-married</td>\n",
       "      <td>Other-service</td>\n",
       "      <td>Own-child</td>\n",
       "      <td>White</td>\n",
       "      <td>Male</td>\n",
       "      <td>0</td>\n",
       "      <td>0</td>\n",
       "      <td>15</td>\n",
       "      <td>United-States</td>\n",
       "      <td>0</td>\n",
       "    </tr>\n",
       "    <tr>\n",
       "      <th>2</th>\n",
       "      <td>31</td>\n",
       "      <td>Private</td>\n",
       "      <td>174201</td>\n",
       "      <td>Bachelors</td>\n",
       "      <td>13</td>\n",
       "      <td>Married-civ-spouse</td>\n",
       "      <td>Exec-managerial</td>\n",
       "      <td>Husband</td>\n",
       "      <td>White</td>\n",
       "      <td>Male</td>\n",
       "      <td>0</td>\n",
       "      <td>0</td>\n",
       "      <td>40</td>\n",
       "      <td>United-States</td>\n",
       "      <td>1</td>\n",
       "    </tr>\n",
       "    <tr>\n",
       "      <th>3</th>\n",
       "      <td>58</td>\n",
       "      <td>State-gov</td>\n",
       "      <td>110199</td>\n",
       "      <td>7th-8th</td>\n",
       "      <td>4</td>\n",
       "      <td>Married-civ-spouse</td>\n",
       "      <td>Transport-moving</td>\n",
       "      <td>Husband</td>\n",
       "      <td>White</td>\n",
       "      <td>Male</td>\n",
       "      <td>0</td>\n",
       "      <td>0</td>\n",
       "      <td>40</td>\n",
       "      <td>United-States</td>\n",
       "      <td>0</td>\n",
       "    </tr>\n",
       "    <tr>\n",
       "      <th>4</th>\n",
       "      <td>25</td>\n",
       "      <td>State-gov</td>\n",
       "      <td>149248</td>\n",
       "      <td>Some-college</td>\n",
       "      <td>10</td>\n",
       "      <td>Never-married</td>\n",
       "      <td>Other-service</td>\n",
       "      <td>Not-in-family</td>\n",
       "      <td>Black</td>\n",
       "      <td>Male</td>\n",
       "      <td>0</td>\n",
       "      <td>0</td>\n",
       "      <td>40</td>\n",
       "      <td>United-States</td>\n",
       "      <td>0</td>\n",
       "    </tr>\n",
       "  </tbody>\n",
       "</table>\n",
       "</div>"
      ],
      "text/plain": [
       "   age  workclass  fnlwgt     education  educational-num      marital-status  \\\n",
       "0   67    Private  366425     Doctorate               16            Divorced   \n",
       "1   17    Private  244602          12th                8       Never-married   \n",
       "2   31    Private  174201     Bachelors               13  Married-civ-spouse   \n",
       "3   58  State-gov  110199       7th-8th                4  Married-civ-spouse   \n",
       "4   25  State-gov  149248  Some-college               10       Never-married   \n",
       "\n",
       "         occupation   relationship   race gender  capital-gain  capital-loss  \\\n",
       "0   Exec-managerial  Not-in-family  White   Male         99999             0   \n",
       "1     Other-service      Own-child  White   Male             0             0   \n",
       "2   Exec-managerial        Husband  White   Male             0             0   \n",
       "3  Transport-moving        Husband  White   Male             0             0   \n",
       "4     Other-service  Not-in-family  Black   Male             0             0   \n",
       "\n",
       "   hours-per-week native-country  income_>50K  \n",
       "0              60  United-States            1  \n",
       "1              15  United-States            0  \n",
       "2              40  United-States            1  \n",
       "3              40  United-States            0  \n",
       "4              40  United-States            0  "
      ]
     },
     "execution_count": 2,
     "metadata": {},
     "output_type": "execute_result"
    }
   ],
   "source": [
    "df = pd.read_csv(\"income_data.csv\")\n",
    "df.head()"
   ]
  },
  {
   "cell_type": "code",
   "execution_count": 3,
   "metadata": {},
   "outputs": [
    {
     "name": "stdout",
     "output_type": "stream",
     "text": [
      "<class 'pandas.core.frame.DataFrame'>\n",
      "RangeIndex: 43957 entries, 0 to 43956\n",
      "Data columns (total 15 columns):\n",
      " #   Column           Non-Null Count  Dtype \n",
      "---  ------           --------------  ----- \n",
      " 0   age              43957 non-null  int64 \n",
      " 1   workclass        41459 non-null  object\n",
      " 2   fnlwgt           43957 non-null  int64 \n",
      " 3   education        43957 non-null  object\n",
      " 4   educational-num  43957 non-null  int64 \n",
      " 5   marital-status   43957 non-null  object\n",
      " 6   occupation       41451 non-null  object\n",
      " 7   relationship     43957 non-null  object\n",
      " 8   race             43957 non-null  object\n",
      " 9   gender           43957 non-null  object\n",
      " 10  capital-gain     43957 non-null  int64 \n",
      " 11  capital-loss     43957 non-null  int64 \n",
      " 12  hours-per-week   43957 non-null  int64 \n",
      " 13  native-country   43194 non-null  object\n",
      " 14  income_>50K      43957 non-null  int64 \n",
      "dtypes: int64(7), object(8)\n",
      "memory usage: 5.0+ MB\n"
     ]
    }
   ],
   "source": [
    "df.info()"
   ]
  },
  {
   "cell_type": "code",
   "execution_count": 4,
   "metadata": {},
   "outputs": [
    {
     "data": {
      "text/plain": [
       "Private             30587\n",
       "Self-emp-not-inc     3464\n",
       "Local-gov            2822\n",
       "State-gov            1756\n",
       "Self-emp-inc         1518\n",
       "Federal-gov          1284\n",
       "Without-pay            20\n",
       "Never-worked            8\n",
       "Name: workclass, dtype: int64"
      ]
     },
     "execution_count": 4,
     "metadata": {},
     "output_type": "execute_result"
    }
   ],
   "source": [
    "df['workclass'].value_counts()"
   ]
  },
  {
   "cell_type": "code",
   "execution_count": 5,
   "metadata": {},
   "outputs": [
    {
     "data": {
      "text/plain": [
       "Craft-repair         5519\n",
       "Prof-specialty       5518\n",
       "Exec-managerial      5506\n",
       "Adm-clerical         5004\n",
       "Sales                4965\n",
       "Other-service        4448\n",
       "Machine-op-inspct    2711\n",
       "Transport-moving     2121\n",
       "Handlers-cleaners    1878\n",
       "Farming-fishing      1348\n",
       "Tech-support         1321\n",
       "Protective-serv       874\n",
       "Priv-house-serv       225\n",
       "Armed-Forces           13\n",
       "Name: occupation, dtype: int64"
      ]
     },
     "execution_count": 5,
     "metadata": {},
     "output_type": "execute_result"
    }
   ],
   "source": [
    "df['occupation'].value_counts()"
   ]
  },
  {
   "cell_type": "code",
   "execution_count": 6,
   "metadata": {},
   "outputs": [
    {
     "data": {
      "text/plain": [
       "2498"
      ]
     },
     "execution_count": 6,
     "metadata": {},
     "output_type": "execute_result"
    }
   ],
   "source": [
    "sum(df['workclass'].isna())"
   ]
  },
  {
   "cell_type": "code",
   "execution_count": 7,
   "metadata": {},
   "outputs": [],
   "source": [
    "df = df.dropna()"
   ]
  },
  {
   "cell_type": "code",
   "execution_count": 8,
   "metadata": {},
   "outputs": [],
   "source": [
    "df = df.rename(columns={df.columns[14]: 'income'})"
   ]
  },
  {
   "cell_type": "code",
   "execution_count": 9,
   "metadata": {},
   "outputs": [],
   "source": [
    "df = df.rename(columns={df.columns[9]: 'sex'})"
   ]
  },
  {
   "cell_type": "code",
   "execution_count": 10,
   "metadata": {},
   "outputs": [
    {
     "name": "stdout",
     "output_type": "stream",
     "text": [
      "<class 'pandas.core.frame.DataFrame'>\n",
      "Int64Index: 40727 entries, 0 to 43956\n",
      "Data columns (total 15 columns):\n",
      " #   Column           Non-Null Count  Dtype \n",
      "---  ------           --------------  ----- \n",
      " 0   age              40727 non-null  int64 \n",
      " 1   workclass        40727 non-null  object\n",
      " 2   fnlwgt           40727 non-null  int64 \n",
      " 3   education        40727 non-null  object\n",
      " 4   educational-num  40727 non-null  int64 \n",
      " 5   marital-status   40727 non-null  object\n",
      " 6   occupation       40727 non-null  object\n",
      " 7   relationship     40727 non-null  object\n",
      " 8   race             40727 non-null  object\n",
      " 9   sex              40727 non-null  object\n",
      " 10  capital-gain     40727 non-null  int64 \n",
      " 11  capital-loss     40727 non-null  int64 \n",
      " 12  hours-per-week   40727 non-null  int64 \n",
      " 13  native-country   40727 non-null  object\n",
      " 14  income           40727 non-null  int64 \n",
      "dtypes: int64(7), object(8)\n",
      "memory usage: 5.0+ MB\n"
     ]
    }
   ],
   "source": [
    "df.info()"
   ]
  },
  {
   "cell_type": "code",
   "execution_count": 11,
   "metadata": {},
   "outputs": [],
   "source": [
    "target = df['income']"
   ]
  },
  {
   "cell_type": "code",
   "execution_count": 12,
   "metadata": {},
   "outputs": [],
   "source": [
    "df = df.drop(['fnlwgt','capital-gain','capital-loss','occupation','native-country','education','income'],axis=1)"
   ]
  },
  {
   "cell_type": "code",
   "execution_count": 13,
   "metadata": {},
   "outputs": [
    {
     "data": {
      "text/html": [
       "<div>\n",
       "<style scoped>\n",
       "    .dataframe tbody tr th:only-of-type {\n",
       "        vertical-align: middle;\n",
       "    }\n",
       "\n",
       "    .dataframe tbody tr th {\n",
       "        vertical-align: top;\n",
       "    }\n",
       "\n",
       "    .dataframe thead th {\n",
       "        text-align: right;\n",
       "    }\n",
       "</style>\n",
       "<table border=\"1\" class=\"dataframe\">\n",
       "  <thead>\n",
       "    <tr style=\"text-align: right;\">\n",
       "      <th></th>\n",
       "      <th>age</th>\n",
       "      <th>workclass</th>\n",
       "      <th>educational-num</th>\n",
       "      <th>marital-status</th>\n",
       "      <th>relationship</th>\n",
       "      <th>race</th>\n",
       "      <th>sex</th>\n",
       "      <th>hours-per-week</th>\n",
       "    </tr>\n",
       "  </thead>\n",
       "  <tbody>\n",
       "    <tr>\n",
       "      <th>0</th>\n",
       "      <td>67</td>\n",
       "      <td>Private</td>\n",
       "      <td>16</td>\n",
       "      <td>Divorced</td>\n",
       "      <td>Not-in-family</td>\n",
       "      <td>White</td>\n",
       "      <td>Male</td>\n",
       "      <td>60</td>\n",
       "    </tr>\n",
       "    <tr>\n",
       "      <th>1</th>\n",
       "      <td>17</td>\n",
       "      <td>Private</td>\n",
       "      <td>8</td>\n",
       "      <td>Never-married</td>\n",
       "      <td>Own-child</td>\n",
       "      <td>White</td>\n",
       "      <td>Male</td>\n",
       "      <td>15</td>\n",
       "    </tr>\n",
       "    <tr>\n",
       "      <th>2</th>\n",
       "      <td>31</td>\n",
       "      <td>Private</td>\n",
       "      <td>13</td>\n",
       "      <td>Married-civ-spouse</td>\n",
       "      <td>Husband</td>\n",
       "      <td>White</td>\n",
       "      <td>Male</td>\n",
       "      <td>40</td>\n",
       "    </tr>\n",
       "    <tr>\n",
       "      <th>3</th>\n",
       "      <td>58</td>\n",
       "      <td>State-gov</td>\n",
       "      <td>4</td>\n",
       "      <td>Married-civ-spouse</td>\n",
       "      <td>Husband</td>\n",
       "      <td>White</td>\n",
       "      <td>Male</td>\n",
       "      <td>40</td>\n",
       "    </tr>\n",
       "    <tr>\n",
       "      <th>4</th>\n",
       "      <td>25</td>\n",
       "      <td>State-gov</td>\n",
       "      <td>10</td>\n",
       "      <td>Never-married</td>\n",
       "      <td>Not-in-family</td>\n",
       "      <td>Black</td>\n",
       "      <td>Male</td>\n",
       "      <td>40</td>\n",
       "    </tr>\n",
       "  </tbody>\n",
       "</table>\n",
       "</div>"
      ],
      "text/plain": [
       "   age  workclass  educational-num      marital-status   relationship   race  \\\n",
       "0   67    Private               16            Divorced  Not-in-family  White   \n",
       "1   17    Private                8       Never-married      Own-child  White   \n",
       "2   31    Private               13  Married-civ-spouse        Husband  White   \n",
       "3   58  State-gov                4  Married-civ-spouse        Husband  White   \n",
       "4   25  State-gov               10       Never-married  Not-in-family  Black   \n",
       "\n",
       "    sex  hours-per-week  \n",
       "0  Male              60  \n",
       "1  Male              15  \n",
       "2  Male              40  \n",
       "3  Male              40  \n",
       "4  Male              40  "
      ]
     },
     "execution_count": 13,
     "metadata": {},
     "output_type": "execute_result"
    }
   ],
   "source": [
    "df.head()"
   ]
  },
  {
   "cell_type": "code",
   "execution_count": 14,
   "metadata": {},
   "outputs": [
    {
     "name": "stdout",
     "output_type": "stream",
     "text": [
      "<class 'pandas.core.frame.DataFrame'>\n",
      "Int64Index: 40727 entries, 0 to 43956\n",
      "Data columns (total 8 columns):\n",
      " #   Column           Non-Null Count  Dtype \n",
      "---  ------           --------------  ----- \n",
      " 0   age              40727 non-null  int64 \n",
      " 1   workclass        40727 non-null  object\n",
      " 2   educational-num  40727 non-null  int64 \n",
      " 3   marital-status   40727 non-null  object\n",
      " 4   relationship     40727 non-null  object\n",
      " 5   race             40727 non-null  object\n",
      " 6   sex              40727 non-null  object\n",
      " 7   hours-per-week   40727 non-null  int64 \n",
      "dtypes: int64(3), object(5)\n",
      "memory usage: 2.8+ MB\n"
     ]
    }
   ],
   "source": [
    "df.info()"
   ]
  },
  {
   "cell_type": "code",
   "execution_count": 15,
   "metadata": {},
   "outputs": [
    {
     "data": {
      "text/plain": [
       "Private             30057\n",
       "Self-emp-not-inc     3404\n",
       "Local-gov            2792\n",
       "State-gov            1721\n",
       "Self-emp-inc         1471\n",
       "Federal-gov          1262\n",
       "Without-pay            20\n",
       "Name: workclass, dtype: int64"
      ]
     },
     "execution_count": 15,
     "metadata": {},
     "output_type": "execute_result"
    }
   ],
   "source": [
    "df['workclass'].value_counts()"
   ]
  },
  {
   "cell_type": "code",
   "execution_count": 16,
   "metadata": {},
   "outputs": [
    {
     "data": {
      "text/plain": [
       "Married-civ-spouse       18976\n",
       "Never-married            13156\n",
       "Divorced                  5666\n",
       "Separated                 1252\n",
       "Widowed                   1151\n",
       "Married-spouse-absent      500\n",
       "Married-AF-spouse           26\n",
       "Name: marital-status, dtype: int64"
      ]
     },
     "execution_count": 16,
     "metadata": {},
     "output_type": "execute_result"
    }
   ],
   "source": [
    "df['marital-status'].value_counts()"
   ]
  },
  {
   "cell_type": "code",
   "execution_count": 17,
   "metadata": {},
   "outputs": [
    {
     "data": {
      "text/plain": [
       "Husband           16815\n",
       "Not-in-family     10528\n",
       "Own-child          5978\n",
       "Unmarried          4303\n",
       "Wife               1884\n",
       "Other-relative     1219\n",
       "Name: relationship, dtype: int64"
      ]
     },
     "execution_count": 17,
     "metadata": {},
     "output_type": "execute_result"
    }
   ],
   "source": [
    "df['relationship'].value_counts()"
   ]
  },
  {
   "cell_type": "code",
   "execution_count": 18,
   "metadata": {},
   "outputs": [
    {
     "data": {
      "text/plain": [
       "White                 35007\n",
       "Black                  3817\n",
       "Asian-Pac-Islander     1184\n",
       "Amer-Indian-Eskimo      394\n",
       "Other                   325\n",
       "Name: race, dtype: int64"
      ]
     },
     "execution_count": 18,
     "metadata": {},
     "output_type": "execute_result"
    }
   ],
   "source": [
    "df['race'].value_counts()"
   ]
  },
  {
   "cell_type": "code",
   "execution_count": 19,
   "metadata": {},
   "outputs": [
    {
     "data": {
      "text/plain": [
       "Male      27490\n",
       "Female    13237\n",
       "Name: sex, dtype: int64"
      ]
     },
     "execution_count": 19,
     "metadata": {},
     "output_type": "execute_result"
    }
   ],
   "source": [
    "df['sex'].value_counts()"
   ]
  },
  {
   "cell_type": "code",
   "execution_count": 20,
   "metadata": {},
   "outputs": [],
   "source": [
    "#df['occupation'].value_counts()"
   ]
  },
  {
   "cell_type": "code",
   "execution_count": 21,
   "metadata": {},
   "outputs": [],
   "source": [
    "df = pd.get_dummies(df)"
   ]
  },
  {
   "cell_type": "code",
   "execution_count": 22,
   "metadata": {},
   "outputs": [
    {
     "data": {
      "text/html": [
       "<div>\n",
       "<style scoped>\n",
       "    .dataframe tbody tr th:only-of-type {\n",
       "        vertical-align: middle;\n",
       "    }\n",
       "\n",
       "    .dataframe tbody tr th {\n",
       "        vertical-align: top;\n",
       "    }\n",
       "\n",
       "    .dataframe thead th {\n",
       "        text-align: right;\n",
       "    }\n",
       "</style>\n",
       "<table border=\"1\" class=\"dataframe\">\n",
       "  <thead>\n",
       "    <tr style=\"text-align: right;\">\n",
       "      <th></th>\n",
       "      <th>age</th>\n",
       "      <th>educational-num</th>\n",
       "      <th>hours-per-week</th>\n",
       "      <th>workclass_Federal-gov</th>\n",
       "      <th>workclass_Local-gov</th>\n",
       "      <th>workclass_Private</th>\n",
       "      <th>workclass_Self-emp-inc</th>\n",
       "      <th>workclass_Self-emp-not-inc</th>\n",
       "      <th>workclass_State-gov</th>\n",
       "      <th>workclass_Without-pay</th>\n",
       "      <th>...</th>\n",
       "      <th>relationship_Own-child</th>\n",
       "      <th>relationship_Unmarried</th>\n",
       "      <th>relationship_Wife</th>\n",
       "      <th>race_Amer-Indian-Eskimo</th>\n",
       "      <th>race_Asian-Pac-Islander</th>\n",
       "      <th>race_Black</th>\n",
       "      <th>race_Other</th>\n",
       "      <th>race_White</th>\n",
       "      <th>sex_Female</th>\n",
       "      <th>sex_Male</th>\n",
       "    </tr>\n",
       "  </thead>\n",
       "  <tbody>\n",
       "    <tr>\n",
       "      <th>0</th>\n",
       "      <td>67</td>\n",
       "      <td>16</td>\n",
       "      <td>60</td>\n",
       "      <td>0</td>\n",
       "      <td>0</td>\n",
       "      <td>1</td>\n",
       "      <td>0</td>\n",
       "      <td>0</td>\n",
       "      <td>0</td>\n",
       "      <td>0</td>\n",
       "      <td>...</td>\n",
       "      <td>0</td>\n",
       "      <td>0</td>\n",
       "      <td>0</td>\n",
       "      <td>0</td>\n",
       "      <td>0</td>\n",
       "      <td>0</td>\n",
       "      <td>0</td>\n",
       "      <td>1</td>\n",
       "      <td>0</td>\n",
       "      <td>1</td>\n",
       "    </tr>\n",
       "    <tr>\n",
       "      <th>1</th>\n",
       "      <td>17</td>\n",
       "      <td>8</td>\n",
       "      <td>15</td>\n",
       "      <td>0</td>\n",
       "      <td>0</td>\n",
       "      <td>1</td>\n",
       "      <td>0</td>\n",
       "      <td>0</td>\n",
       "      <td>0</td>\n",
       "      <td>0</td>\n",
       "      <td>...</td>\n",
       "      <td>1</td>\n",
       "      <td>0</td>\n",
       "      <td>0</td>\n",
       "      <td>0</td>\n",
       "      <td>0</td>\n",
       "      <td>0</td>\n",
       "      <td>0</td>\n",
       "      <td>1</td>\n",
       "      <td>0</td>\n",
       "      <td>1</td>\n",
       "    </tr>\n",
       "    <tr>\n",
       "      <th>2</th>\n",
       "      <td>31</td>\n",
       "      <td>13</td>\n",
       "      <td>40</td>\n",
       "      <td>0</td>\n",
       "      <td>0</td>\n",
       "      <td>1</td>\n",
       "      <td>0</td>\n",
       "      <td>0</td>\n",
       "      <td>0</td>\n",
       "      <td>0</td>\n",
       "      <td>...</td>\n",
       "      <td>0</td>\n",
       "      <td>0</td>\n",
       "      <td>0</td>\n",
       "      <td>0</td>\n",
       "      <td>0</td>\n",
       "      <td>0</td>\n",
       "      <td>0</td>\n",
       "      <td>1</td>\n",
       "      <td>0</td>\n",
       "      <td>1</td>\n",
       "    </tr>\n",
       "    <tr>\n",
       "      <th>3</th>\n",
       "      <td>58</td>\n",
       "      <td>4</td>\n",
       "      <td>40</td>\n",
       "      <td>0</td>\n",
       "      <td>0</td>\n",
       "      <td>0</td>\n",
       "      <td>0</td>\n",
       "      <td>0</td>\n",
       "      <td>1</td>\n",
       "      <td>0</td>\n",
       "      <td>...</td>\n",
       "      <td>0</td>\n",
       "      <td>0</td>\n",
       "      <td>0</td>\n",
       "      <td>0</td>\n",
       "      <td>0</td>\n",
       "      <td>0</td>\n",
       "      <td>0</td>\n",
       "      <td>1</td>\n",
       "      <td>0</td>\n",
       "      <td>1</td>\n",
       "    </tr>\n",
       "    <tr>\n",
       "      <th>4</th>\n",
       "      <td>25</td>\n",
       "      <td>10</td>\n",
       "      <td>40</td>\n",
       "      <td>0</td>\n",
       "      <td>0</td>\n",
       "      <td>0</td>\n",
       "      <td>0</td>\n",
       "      <td>0</td>\n",
       "      <td>1</td>\n",
       "      <td>0</td>\n",
       "      <td>...</td>\n",
       "      <td>0</td>\n",
       "      <td>0</td>\n",
       "      <td>0</td>\n",
       "      <td>0</td>\n",
       "      <td>0</td>\n",
       "      <td>1</td>\n",
       "      <td>0</td>\n",
       "      <td>0</td>\n",
       "      <td>0</td>\n",
       "      <td>1</td>\n",
       "    </tr>\n",
       "  </tbody>\n",
       "</table>\n",
       "<p>5 rows × 30 columns</p>\n",
       "</div>"
      ],
      "text/plain": [
       "   age  educational-num  hours-per-week  workclass_Federal-gov  \\\n",
       "0   67               16              60                      0   \n",
       "1   17                8              15                      0   \n",
       "2   31               13              40                      0   \n",
       "3   58                4              40                      0   \n",
       "4   25               10              40                      0   \n",
       "\n",
       "   workclass_Local-gov  workclass_Private  workclass_Self-emp-inc  \\\n",
       "0                    0                  1                       0   \n",
       "1                    0                  1                       0   \n",
       "2                    0                  1                       0   \n",
       "3                    0                  0                       0   \n",
       "4                    0                  0                       0   \n",
       "\n",
       "   workclass_Self-emp-not-inc  workclass_State-gov  workclass_Without-pay  \\\n",
       "0                           0                    0                      0   \n",
       "1                           0                    0                      0   \n",
       "2                           0                    0                      0   \n",
       "3                           0                    1                      0   \n",
       "4                           0                    1                      0   \n",
       "\n",
       "   ...  relationship_Own-child  relationship_Unmarried  relationship_Wife  \\\n",
       "0  ...                       0                       0                  0   \n",
       "1  ...                       1                       0                  0   \n",
       "2  ...                       0                       0                  0   \n",
       "3  ...                       0                       0                  0   \n",
       "4  ...                       0                       0                  0   \n",
       "\n",
       "   race_Amer-Indian-Eskimo  race_Asian-Pac-Islander  race_Black  race_Other  \\\n",
       "0                        0                        0           0           0   \n",
       "1                        0                        0           0           0   \n",
       "2                        0                        0           0           0   \n",
       "3                        0                        0           0           0   \n",
       "4                        0                        0           1           0   \n",
       "\n",
       "   race_White  sex_Female  sex_Male  \n",
       "0           1           0         1  \n",
       "1           1           0         1  \n",
       "2           1           0         1  \n",
       "3           1           0         1  \n",
       "4           0           0         1  \n",
       "\n",
       "[5 rows x 30 columns]"
      ]
     },
     "execution_count": 22,
     "metadata": {},
     "output_type": "execute_result"
    }
   ],
   "source": [
    "df.head()"
   ]
  },
  {
   "cell_type": "code",
   "execution_count": 23,
   "metadata": {},
   "outputs": [
    {
     "name": "stdout",
     "output_type": "stream",
     "text": [
      "<class 'pandas.core.frame.DataFrame'>\n",
      "Int64Index: 40727 entries, 0 to 43956\n",
      "Data columns (total 30 columns):\n",
      " #   Column                                Non-Null Count  Dtype\n",
      "---  ------                                --------------  -----\n",
      " 0   age                                   40727 non-null  int64\n",
      " 1   educational-num                       40727 non-null  int64\n",
      " 2   hours-per-week                        40727 non-null  int64\n",
      " 3   workclass_Federal-gov                 40727 non-null  uint8\n",
      " 4   workclass_Local-gov                   40727 non-null  uint8\n",
      " 5   workclass_Private                     40727 non-null  uint8\n",
      " 6   workclass_Self-emp-inc                40727 non-null  uint8\n",
      " 7   workclass_Self-emp-not-inc            40727 non-null  uint8\n",
      " 8   workclass_State-gov                   40727 non-null  uint8\n",
      " 9   workclass_Without-pay                 40727 non-null  uint8\n",
      " 10  marital-status_Divorced               40727 non-null  uint8\n",
      " 11  marital-status_Married-AF-spouse      40727 non-null  uint8\n",
      " 12  marital-status_Married-civ-spouse     40727 non-null  uint8\n",
      " 13  marital-status_Married-spouse-absent  40727 non-null  uint8\n",
      " 14  marital-status_Never-married          40727 non-null  uint8\n",
      " 15  marital-status_Separated              40727 non-null  uint8\n",
      " 16  marital-status_Widowed                40727 non-null  uint8\n",
      " 17  relationship_Husband                  40727 non-null  uint8\n",
      " 18  relationship_Not-in-family            40727 non-null  uint8\n",
      " 19  relationship_Other-relative           40727 non-null  uint8\n",
      " 20  relationship_Own-child                40727 non-null  uint8\n",
      " 21  relationship_Unmarried                40727 non-null  uint8\n",
      " 22  relationship_Wife                     40727 non-null  uint8\n",
      " 23  race_Amer-Indian-Eskimo               40727 non-null  uint8\n",
      " 24  race_Asian-Pac-Islander               40727 non-null  uint8\n",
      " 25  race_Black                            40727 non-null  uint8\n",
      " 26  race_Other                            40727 non-null  uint8\n",
      " 27  race_White                            40727 non-null  uint8\n",
      " 28  sex_Female                            40727 non-null  uint8\n",
      " 29  sex_Male                              40727 non-null  uint8\n",
      "dtypes: int64(3), uint8(27)\n",
      "memory usage: 2.3 MB\n"
     ]
    }
   ],
   "source": [
    "df.info()"
   ]
  },
  {
   "cell_type": "code",
   "execution_count": 36,
   "metadata": {},
   "outputs": [
    {
     "data": {
      "text/plain": [
       "30"
      ]
     },
     "execution_count": 36,
     "metadata": {},
     "output_type": "execute_result"
    }
   ],
   "source": [
    "pred_lst = [42,16,60,0,0,1,0,0,0,0,0,0,0,0,1,0,0,0,0,0,0,1,0,0,0,0,0,1,0,1]\n",
    "len(pred_lst)"
   ]
  },
  {
   "cell_type": "code",
   "execution_count": 39,
   "metadata": {},
   "outputs": [],
   "source": [
    "pred_lst.extend([1,2])"
   ]
  },
  {
   "cell_type": "code",
   "execution_count": 41,
   "metadata": {},
   "outputs": [],
   "source": [
    "if len(pred_lst) == 30:\n",
    "    pred_lst.append(30)\n",
    "else:\n",
    "    pred_lst.append(0)\n",
    "    \n",
    "if len(pred_lst) == 31:\n",
    "    pred_lst.append(31)\n",
    "else:\n",
    "    pred_lst.append(0)"
   ]
  },
  {
   "cell_type": "code",
   "execution_count": 42,
   "metadata": {},
   "outputs": [
    {
     "data": {
      "text/plain": [
       "[42,\n",
       " 16,\n",
       " 60,\n",
       " 0,\n",
       " 0,\n",
       " 1,\n",
       " 0,\n",
       " 0,\n",
       " 0,\n",
       " 0,\n",
       " 0,\n",
       " 0,\n",
       " 0,\n",
       " 0,\n",
       " 1,\n",
       " 0,\n",
       " 0,\n",
       " 0,\n",
       " 0,\n",
       " 0,\n",
       " 0,\n",
       " 1,\n",
       " 0,\n",
       " 0,\n",
       " 0,\n",
       " 0,\n",
       " 0,\n",
       " 1,\n",
       " 0,\n",
       " 1,\n",
       " 1,\n",
       " 2,\n",
       " 0,\n",
       " 0]"
      ]
     },
     "execution_count": 42,
     "metadata": {},
     "output_type": "execute_result"
    }
   ],
   "source": [
    "pred_lst"
   ]
  },
  {
   "cell_type": "code",
   "execution_count": 93,
   "metadata": {},
   "outputs": [],
   "source": [
    "X_train, X_test, y_train, y_test = train_test_split(df, target, test_size=0.33, random_state=42)"
   ]
  },
  {
   "cell_type": "markdown",
   "metadata": {},
   "source": [
    "**Random Forest Model**"
   ]
  },
  {
   "cell_type": "code",
   "execution_count": 66,
   "metadata": {},
   "outputs": [],
   "source": [
    "from sklearn.ensemble import RandomForestClassifier\n",
    "from sklearn.model_selection import RandomizedSearchCV"
   ]
  },
  {
   "cell_type": "code",
   "execution_count": 17,
   "metadata": {},
   "outputs": [],
   "source": [
    "def get_params(df):\n",
    "    mini = min(df['mean_test_score'])\n",
    "    for row in range(len(df)):\n",
    "        if df.iloc[row]['mean_test_score'] == mini:\n",
    "            return df.iloc[row]['params']"
   ]
  },
  {
   "cell_type": "code",
   "execution_count": 19,
   "metadata": {},
   "outputs": [],
   "source": [
    "clf = RandomizedSearchCV(RandomForestClassifier(),{\n",
    "    'n_estimators' : [5000,10000],\n",
    "    'min_samples_split' : [2,3,4,5],\n",
    "    'min_samples_leaf' : [1,2,3,4], \n",
    "    'max_depth' : [None,3,4,5]\n",
    "})\n",
    "\n",
    "clf.fit(X_train,y_train)\n",
    "\n",
    "new_df = pd.DataFrame(clf.cv_results_)"
   ]
  },
  {
   "cell_type": "code",
   "execution_count": 20,
   "metadata": {},
   "outputs": [
    {
     "data": {
      "text/plain": [
       "0.814417143041708"
      ]
     },
     "execution_count": 20,
     "metadata": {},
     "output_type": "execute_result"
    }
   ],
   "source": [
    "max(new_df['mean_test_score'])"
   ]
  },
  {
   "cell_type": "code",
   "execution_count": 21,
   "metadata": {},
   "outputs": [
    {
     "data": {
      "text/plain": [
       "{'n_estimators': 10000,\n",
       " 'min_samples_split': 2,\n",
       " 'min_samples_leaf': 3,\n",
       " 'max_depth': 3}"
      ]
     },
     "execution_count": 21,
     "metadata": {},
     "output_type": "execute_result"
    }
   ],
   "source": [
    "get_params(new_df)"
   ]
  },
  {
   "cell_type": "markdown",
   "metadata": {},
   "source": [
    "**Neural Network Model**"
   ]
  },
  {
   "cell_type": "code",
   "execution_count": 136,
   "metadata": {},
   "outputs": [],
   "source": [
    "import tensorflow as tf\n",
    "import keras \n",
    "from keras.models import Sequential\n",
    "from keras import layers\n",
    "from tensorflow.keras.utils import to_categorical\n",
    "from keras import models"
   ]
  },
  {
   "cell_type": "code",
   "execution_count": 137,
   "metadata": {},
   "outputs": [
    {
     "data": {
      "text/plain": [
       "(27287, 87)"
      ]
     },
     "execution_count": 137,
     "metadata": {},
     "output_type": "execute_result"
    }
   ],
   "source": [
    "X_train.shape"
   ]
  },
  {
   "cell_type": "code",
   "execution_count": 138,
   "metadata": {},
   "outputs": [
    {
     "data": {
      "text/plain": [
       "(27287,)"
      ]
     },
     "execution_count": 138,
     "metadata": {},
     "output_type": "execute_result"
    }
   ],
   "source": [
    "y_train.shape"
   ]
  },
  {
   "cell_type": "code",
   "execution_count": 139,
   "metadata": {},
   "outputs": [],
   "source": [
    "X_train_nn = np.array(X_train)\n",
    "y_train_nn = np.array(y_train)\n",
    "\n",
    "X_test_nn = np.array(X_test)\n",
    "y_test_nn = np.array(y_test)"
   ]
  },
  {
   "cell_type": "code",
   "execution_count": 140,
   "metadata": {},
   "outputs": [
    {
     "data": {
      "text/plain": [
       "(27287,)"
      ]
     },
     "execution_count": 140,
     "metadata": {},
     "output_type": "execute_result"
    }
   ],
   "source": [
    "y_train_nn.shape"
   ]
  },
  {
   "cell_type": "code",
   "execution_count": 141,
   "metadata": {},
   "outputs": [],
   "source": [
    "model = models.Sequential() \n",
    "model.add(layers.Dense(80, activation='relu', input_shape=(87,)))\n",
    "model.add(layers.Dense(50, activation='relu'))\n",
    "model.add(layers.Dense(25, activation='relu'))\n",
    "model.add(layers.Dense(10, activation='relu'))\n",
    "model.add(layers.Dense(1, activation='sigmoid')) "
   ]
  },
  {
   "cell_type": "code",
   "execution_count": 142,
   "metadata": {},
   "outputs": [],
   "source": [
    "model.compile(optimizer='adam',loss='binary_crossentropy',metrics=['accuracy'])"
   ]
  },
  {
   "cell_type": "code",
   "execution_count": 143,
   "metadata": {},
   "outputs": [
    {
     "name": "stdout",
     "output_type": "stream",
     "text": [
      "Epoch 1/50\n",
      "597/597 [==============================] - 3s 3ms/step - loss: 0.4360 - accuracy: 0.7956 - val_loss: 0.3684 - val_accuracy: 0.8263\n",
      "Epoch 2/50\n",
      "597/597 [==============================] - 2s 3ms/step - loss: 0.3842 - accuracy: 0.8142 - val_loss: 0.3814 - val_accuracy: 0.8217\n",
      "Epoch 3/50\n",
      "597/597 [==============================] - 2s 3ms/step - loss: 0.3753 - accuracy: 0.8201 - val_loss: 0.3593 - val_accuracy: 0.8294\n",
      "Epoch 4/50\n",
      "597/597 [==============================] - 2s 3ms/step - loss: 0.3702 - accuracy: 0.8247 - val_loss: 0.3616 - val_accuracy: 0.8286\n",
      "Epoch 5/50\n",
      "597/597 [==============================] - 2s 3ms/step - loss: 0.3701 - accuracy: 0.8225 - val_loss: 0.3596 - val_accuracy: 0.8284\n",
      "Epoch 6/50\n",
      "597/597 [==============================] - 2s 3ms/step - loss: 0.3676 - accuracy: 0.8251 - val_loss: 0.3598 - val_accuracy: 0.8291\n",
      "Epoch 7/50\n",
      "597/597 [==============================] - 2s 3ms/step - loss: 0.3692 - accuracy: 0.8215 - val_loss: 0.3617 - val_accuracy: 0.8269\n",
      "Epoch 8/50\n",
      "597/597 [==============================] - 2s 3ms/step - loss: 0.3652 - accuracy: 0.8251 - val_loss: 0.3717 - val_accuracy: 0.8200\n",
      "Epoch 9/50\n",
      "597/597 [==============================] - 2s 3ms/step - loss: 0.3624 - accuracy: 0.8279 - val_loss: 0.3801 - val_accuracy: 0.8202\n",
      "Epoch 10/50\n",
      "597/597 [==============================] - 2s 3ms/step - loss: 0.3628 - accuracy: 0.8262 - val_loss: 0.3564 - val_accuracy: 0.8308\n",
      "Epoch 11/50\n",
      "597/597 [==============================] - 2s 3ms/step - loss: 0.3598 - accuracy: 0.8291 - val_loss: 0.3546 - val_accuracy: 0.8338\n",
      "Epoch 12/50\n",
      "597/597 [==============================] - 2s 3ms/step - loss: 0.3643 - accuracy: 0.8246 - val_loss: 0.3542 - val_accuracy: 0.8316\n",
      "Epoch 13/50\n",
      "597/597 [==============================] - 2s 3ms/step - loss: 0.3599 - accuracy: 0.8276 - val_loss: 0.3854 - val_accuracy: 0.8096\n",
      "Epoch 14/50\n",
      "597/597 [==============================] - 2s 3ms/step - loss: 0.3609 - accuracy: 0.8298 - val_loss: 0.3638 - val_accuracy: 0.8251\n",
      "Epoch 15/50\n",
      "597/597 [==============================] - 2s 3ms/step - loss: 0.3592 - accuracy: 0.8277 - val_loss: 0.3761 - val_accuracy: 0.8180\n",
      "Epoch 16/50\n",
      "597/597 [==============================] - 2s 3ms/step - loss: 0.3586 - accuracy: 0.8280 - val_loss: 0.3545 - val_accuracy: 0.8323\n",
      "Epoch 17/50\n",
      "597/597 [==============================] - 2s 3ms/step - loss: 0.3572 - accuracy: 0.8271 - val_loss: 0.3542 - val_accuracy: 0.8324\n",
      "Epoch 18/50\n",
      "597/597 [==============================] - 2s 3ms/step - loss: 0.3573 - accuracy: 0.8295 - val_loss: 0.3578 - val_accuracy: 0.8280\n",
      "Epoch 19/50\n",
      "597/597 [==============================] - 2s 3ms/step - loss: 0.3556 - accuracy: 0.8293 - val_loss: 0.3565 - val_accuracy: 0.8321\n",
      "Epoch 20/50\n",
      "597/597 [==============================] - 2s 3ms/step - loss: 0.3562 - accuracy: 0.8309 - val_loss: 0.3596 - val_accuracy: 0.8292\n",
      "Epoch 21/50\n",
      "597/597 [==============================] - 2s 3ms/step - loss: 0.3556 - accuracy: 0.8302 - val_loss: 0.3648 - val_accuracy: 0.8274\n",
      "Epoch 22/50\n",
      "597/597 [==============================] - 2s 3ms/step - loss: 0.3566 - accuracy: 0.8310 - val_loss: 0.3613 - val_accuracy: 0.8275\n",
      "Epoch 23/50\n",
      "597/597 [==============================] - 2s 3ms/step - loss: 0.3560 - accuracy: 0.8300 - val_loss: 0.3554 - val_accuracy: 0.8333\n",
      "Epoch 24/50\n",
      "597/597 [==============================] - 2s 3ms/step - loss: 0.3537 - accuracy: 0.8298 - val_loss: 0.3577 - val_accuracy: 0.8310\n",
      "Epoch 25/50\n",
      "597/597 [==============================] - 2s 3ms/step - loss: 0.3545 - accuracy: 0.8309 - val_loss: 0.3573 - val_accuracy: 0.8286\n",
      "Epoch 26/50\n",
      "597/597 [==============================] - 2s 3ms/step - loss: 0.3531 - accuracy: 0.8317 - val_loss: 0.3556 - val_accuracy: 0.8316\n",
      "Epoch 27/50\n",
      "597/597 [==============================] - 2s 3ms/step - loss: 0.3536 - accuracy: 0.8318 - val_loss: 0.3586 - val_accuracy: 0.8345\n",
      "Epoch 28/50\n",
      "597/597 [==============================] - 2s 3ms/step - loss: 0.3529 - accuracy: 0.8339 - val_loss: 0.3610 - val_accuracy: 0.8270\n",
      "Epoch 29/50\n",
      "597/597 [==============================] - 2s 3ms/step - loss: 0.3524 - accuracy: 0.8333 - val_loss: 0.3566 - val_accuracy: 0.8345\n",
      "Epoch 30/50\n",
      "597/597 [==============================] - 2s 3ms/step - loss: 0.3507 - accuracy: 0.8330 - val_loss: 0.3592 - val_accuracy: 0.8327\n",
      "Epoch 31/50\n",
      "597/597 [==============================] - 2s 3ms/step - loss: 0.3505 - accuracy: 0.8338 - val_loss: 0.3693 - val_accuracy: 0.8273\n",
      "Epoch 32/50\n",
      "597/597 [==============================] - 2s 3ms/step - loss: 0.3520 - accuracy: 0.8341 - val_loss: 0.3592 - val_accuracy: 0.8308\n",
      "Epoch 33/50\n",
      "597/597 [==============================] - 2s 3ms/step - loss: 0.3508 - accuracy: 0.8334 - val_loss: 0.3550 - val_accuracy: 0.8314\n",
      "Epoch 34/50\n",
      "597/597 [==============================] - 2s 3ms/step - loss: 0.3511 - accuracy: 0.8335 - val_loss: 0.3564 - val_accuracy: 0.8333\n",
      "Epoch 35/50\n",
      "597/597 [==============================] - 2s 3ms/step - loss: 0.3487 - accuracy: 0.8337 - val_loss: 0.3590 - val_accuracy: 0.8299\n",
      "Epoch 36/50\n",
      "597/597 [==============================] - 2s 3ms/step - loss: 0.3495 - accuracy: 0.8345 - val_loss: 0.3561 - val_accuracy: 0.8329\n",
      "Epoch 37/50\n",
      "597/597 [==============================] - 2s 3ms/step - loss: 0.3487 - accuracy: 0.8347 - val_loss: 0.3654 - val_accuracy: 0.8297\n",
      "Epoch 38/50\n",
      "597/597 [==============================] - 2s 3ms/step - loss: 0.3486 - accuracy: 0.8357 - val_loss: 0.3554 - val_accuracy: 0.8327\n",
      "Epoch 39/50\n",
      "597/597 [==============================] - 2s 3ms/step - loss: 0.3478 - accuracy: 0.8351 - val_loss: 0.3585 - val_accuracy: 0.8305\n",
      "Epoch 40/50\n",
      "597/597 [==============================] - 2s 3ms/step - loss: 0.3468 - accuracy: 0.8360 - val_loss: 0.3782 - val_accuracy: 0.8269\n",
      "Epoch 41/50\n",
      "597/597 [==============================] - 2s 3ms/step - loss: 0.3483 - accuracy: 0.8343 - val_loss: 0.3576 - val_accuracy: 0.8295\n",
      "Epoch 42/50\n",
      "597/597 [==============================] - 2s 3ms/step - loss: 0.3480 - accuracy: 0.8337 - val_loss: 0.3597 - val_accuracy: 0.8311\n",
      "Epoch 43/50\n",
      "597/597 [==============================] - 2s 3ms/step - loss: 0.3454 - accuracy: 0.8364 - val_loss: 0.3608 - val_accuracy: 0.8319\n",
      "Epoch 44/50\n",
      "597/597 [==============================] - 2s 3ms/step - loss: 0.3463 - accuracy: 0.8365 - val_loss: 0.3571 - val_accuracy: 0.8299\n",
      "Epoch 45/50\n",
      "597/597 [==============================] - 2s 3ms/step - loss: 0.3447 - accuracy: 0.8361 - val_loss: 0.3569 - val_accuracy: 0.8314\n",
      "Epoch 46/50\n",
      "597/597 [==============================] - 2s 3ms/step - loss: 0.3451 - accuracy: 0.8357 - val_loss: 0.3574 - val_accuracy: 0.8349\n",
      "Epoch 47/50\n",
      "597/597 [==============================] - 2s 3ms/step - loss: 0.3452 - accuracy: 0.8351 - val_loss: 0.3671 - val_accuracy: 0.8305\n",
      "Epoch 48/50\n",
      "597/597 [==============================] - 2s 3ms/step - loss: 0.3444 - accuracy: 0.8340 - val_loss: 0.3602 - val_accuracy: 0.8295\n",
      "Epoch 49/50\n",
      "597/597 [==============================] - 2s 3ms/step - loss: 0.3457 - accuracy: 0.8337 - val_loss: 0.3583 - val_accuracy: 0.8313\n",
      "Epoch 50/50\n",
      "597/597 [==============================] - 2s 3ms/step - loss: 0.3441 - accuracy: 0.8357 - val_loss: 0.3603 - val_accuracy: 0.8328\n"
     ]
    },
    {
     "data": {
      "text/plain": [
       "<keras.callbacks.History at 0x22c5384eb20>"
      ]
     },
     "execution_count": 143,
     "metadata": {},
     "output_type": "execute_result"
    }
   ],
   "source": [
    "model.fit(X_train_nn, y_train_nn, validation_split=0.3, shuffle=True, epochs=50)"
   ]
  },
  {
   "cell_type": "code",
   "execution_count": 76,
   "metadata": {},
   "outputs": [
    {
     "name": "stdout",
     "output_type": "stream",
     "text": [
      "420/420 [==============================] - 2s 4ms/step - loss: 0.3533 - accuracy: 0.8335\n",
      "test_acc: 0.8334821462631226\n"
     ]
    }
   ],
   "source": [
    "test_loss, test_acc = model.evaluate(X_test_nn, y_test_nn)\n",
    "print('test_acc:', test_acc)"
   ]
  },
  {
   "cell_type": "markdown",
   "metadata": {},
   "source": [
    "**Logistic Regression Model**"
   ]
  },
  {
   "cell_type": "code",
   "execution_count": 25,
   "metadata": {},
   "outputs": [],
   "source": [
    "from sklearn.linear_model import LogisticRegression\n",
    "from sklearn.model_selection import cross_val_score"
   ]
  },
  {
   "cell_type": "code",
   "execution_count": 27,
   "metadata": {},
   "outputs": [],
   "source": [
    "lr = LogisticRegression(max_iter=10000)\n",
    "#scores = cross_val_score(lr, df, target, cv=5)\n",
    "\n",
    "#print(np.sum(scores) / len(scores))"
   ]
  },
  {
   "cell_type": "code",
   "execution_count": 28,
   "metadata": {},
   "outputs": [
    {
     "data": {
      "text/plain": [
       "LogisticRegression(max_iter=10000)"
      ]
     },
     "execution_count": 28,
     "metadata": {},
     "output_type": "execute_result"
    }
   ],
   "source": [
    "lr.fit(df,target)"
   ]
  },
  {
   "cell_type": "code",
   "execution_count": 35,
   "metadata": {},
   "outputs": [
    {
     "data": {
      "text/plain": [
       "array([1], dtype=int64)"
      ]
     },
     "execution_count": 35,
     "metadata": {},
     "output_type": "execute_result"
    }
   ],
   "source": [
    "lr.predict([pred_lst])"
   ]
  },
  {
   "cell_type": "code",
   "execution_count": 97,
   "metadata": {},
   "outputs": [],
   "source": [
    "with open('lr_model.pickle', 'wb') as handle:\n",
    "    pickle.dump(lr, handle, protocol=pickle.HIGHEST_PROTOCOL)"
   ]
  },
  {
   "cell_type": "markdown",
   "metadata": {},
   "source": [
    "**SVM Model**"
   ]
  },
  {
   "cell_type": "code",
   "execution_count": 115,
   "metadata": {},
   "outputs": [],
   "source": [
    "from sklearn import svm"
   ]
  },
  {
   "cell_type": "code",
   "execution_count": 117,
   "metadata": {},
   "outputs": [
    {
     "name": "stdout",
     "output_type": "stream",
     "text": [
      "0.8310457930370493\n"
     ]
    }
   ],
   "source": [
    "sv = svm.SVC(kernel='linear', C=1, random_state=42)\n",
    "scores = cross_val_score(sv, df, target, cv=5)\n",
    "\n",
    "print(np.sum(scores) / len(scores))"
   ]
  },
  {
   "cell_type": "markdown",
   "metadata": {},
   "source": [
    "**Naive Bayes Model**"
   ]
  },
  {
   "cell_type": "code",
   "execution_count": 118,
   "metadata": {},
   "outputs": [],
   "source": [
    "from sklearn.naive_bayes import GaussianNB"
   ]
  },
  {
   "cell_type": "code",
   "execution_count": 119,
   "metadata": {},
   "outputs": [
    {
     "name": "stdout",
     "output_type": "stream",
     "text": [
      "0.8310457930370493\n"
     ]
    }
   ],
   "source": [
    "gnb = GaussianNB()\n",
    "scores_nb = cross_val_score(gnb,df,target,cv=5)\n",
    "\n",
    "print(np.sum(scores) / len(scores))"
   ]
  },
  {
   "cell_type": "code",
   "execution_count": null,
   "metadata": {},
   "outputs": [],
   "source": []
  }
 ],
 "metadata": {
  "kernelspec": {
   "display_name": "Python 3",
   "language": "python",
   "name": "python3"
  },
  "language_info": {
   "codemirror_mode": {
    "name": "ipython",
    "version": 3
   },
   "file_extension": ".py",
   "mimetype": "text/x-python",
   "name": "python",
   "nbconvert_exporter": "python",
   "pygments_lexer": "ipython3",
   "version": "3.8.3"
  }
 },
 "nbformat": 4,
 "nbformat_minor": 4
}
